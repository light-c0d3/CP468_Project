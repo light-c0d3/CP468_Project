{
  "nbformat": 4,
  "nbformat_minor": 0,
  "metadata": {
    "colab": {
      "provenance": [],
      "authorship_tag": "ABX9TyNuPQOJS0cNxnGmF25hgFI9",
      "include_colab_link": true
    },
    "kernelspec": {
      "name": "python3",
      "display_name": "Python 3"
    },
    "language_info": {
      "name": "python"
    }
  },
  "cells": [
    {
      "cell_type": "markdown",
      "metadata": {
        "id": "view-in-github",
        "colab_type": "text"
      },
      "source": [
        "<a href=\"https://colab.research.google.com/github/light-c0d3/CP468_Project/blob/main/CP460_A1.ipynb\" target=\"_parent\"><img src=\"https://colab.research.google.com/assets/colab-badge.svg\" alt=\"Open In Colab\"/></a>"
      ]
    },
    {
      "cell_type": "markdown",
      "source": [],
      "metadata": {
        "id": "8iYq-5cdasVn"
      }
    },
    {
      "cell_type": "code",
      "source": [
        "# Task 1\n",
        "## Encoded Shift Cipher\n",
        "### Implement a function --> LETTER FREQUENCY ATTACK (based on table 1.1 and 1.2.2 from text)\n",
        "\n",
        "### How many letters needed to identify to recover the key? Whats the cleartext?\n",
        "\n",
        "\n",
        "# Task 2\n",
        "## Affine Cipher\n",
        "### 2 functions [encrypt and decrypt], k consists of 2 interegers (a,b) both in {1-25} BUT NOT DIVISIBLE BY 2 or 13\n",
        "#### leave any non alpha unchanged.\n",
        "\n",
        "### k = (7, 22) now decrypt cipher text with AffineDecrypt(k, cipheertext)\n",
        "#### ciphertext = []"
      ],
      "metadata": {
        "id": "lhPxfgn4auQ3"
      },
      "execution_count": null,
      "outputs": []
    },
    {
      "cell_type": "code",
      "source": [
        "# Shift Cipher & LFA\n",
        "\n",
        "def LetterFreqAttack(cipher):\n",
        "  # get the freq of every letter in cipher\n",
        "  letterFreq = {'A': 0.0, 'B': 0.0, 'C': 0.0, 'D': 0.0, 'E': 0.0, 'F': 0.0, 'G': 0.0, 'H': 0.0, 'I': 0.0, 'J': 0.0, 'K': 0.0, 'L': 0.0, 'M': 0.0, 'N': 0.0, 'O': 0.0, 'P': 0.0, 'Q': 0.0, 'R': 0.0, 'S': 0.0, 'T': 0.0, 'U': 0.0, 'V': 0.0, 'W': 0.0, 'X': 0.0, 'Y': 0.0, 'Z': 0.0}\n",
        "  letterFreqEng = {'A': 0.0817, 'B': 0.0150, 'C': 0.0278, 'D': 0.0425, 'E': 0.1270, 'F':0.0223, 'G': 0.0202, 'H': 0.0609, 'I': 0.0697, 'J': 0.0015, 'K': 0.0077, 'L': 0.0403, 'M': 0.0241, 'N': 0.0675, 'O': 0.0751, 'P': 0.0193, 'Q': 0.0010, 'R': 0.0599, 'S': 0.0633, 'T': 0.0906, 'U': 0.0276, 'V': 0.0098, 'W': 0.0236, 'X': 0.0015, 'Y': 0.0197, 'Z': 0.0007}\n",
        "\n",
        "  for letter in cipher:\n",
        "    # letter freq for cipher update (this counts them)\n",
        "    if letter.isalpha():\n",
        "      letter = letter.upper()\n",
        "      letterFreq[letter] += 1.0\n",
        "\n",
        "\n",
        "\n",
        "\n",
        "\n",
        "\n",
        "\n",
        "\n",
        "\n",
        "\n",
        "\n",
        "  # then change the most freq letter w eng most freq letter\n",
        "  # e for top #1\n",
        "\n",
        "\n",
        "  shift_num = 0\n",
        "  #prolly_plaintext = \":d\"\n",
        "  #print(prolly_plaintext)\n",
        "\n",
        "  print(letterFreq)\n",
        "\n",
        "\n",
        "\n",
        "\n",
        "ciphertext = \"Xultpaajcxitltlxaarpjhtiwtgxktghidhipxciwtvgtpilpitghlxiwiwtxgqadds.\"\n",
        "\n",
        "LetterFreqAttack(ciphertext)\n",
        "\n"
      ],
      "metadata": {
        "colab": {
          "base_uri": "https://localhost:8080/"
        },
        "id": "IBPm4xZHcahU",
        "outputId": "d374de43-afb8-4940-d5a0-c0a295ecfba8"
      },
      "execution_count": null,
      "outputs": [
        {
          "output_type": "stream",
          "name": "stdout",
          "text": [
            "{'A': 5.0, 'B': 0.0, 'C': 2.0, 'D': 3.0, 'E': 0.0, 'F': 0.0, 'G': 5.0, 'H': 4.0, 'I': 9.0, 'J': 2.0, 'K': 1.0, 'L': 5.0, 'M': 0.0, 'N': 0.0, 'O': 0.0, 'P': 5.0, 'Q': 1.0, 'R': 1.0, 'S': 1.0, 'T': 10.0, 'U': 1.0, 'V': 1.0, 'W': 4.0, 'X': 7.0, 'Y': 0.0, 'Z': 0.0}\n"
          ]
        }
      ]
    }
  ]
}